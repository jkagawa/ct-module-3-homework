{
 "cells": [
  {
   "cell_type": "markdown",
   "metadata": {},
   "source": [
    "# Algorithms, Binary Search & Linked Lists"
   ]
  },
  {
   "cell_type": "markdown",
   "metadata": {},
   "source": [
    "## Tasks Today:\n",
    " \n",
    "1) <b>In-Place Algorithms</b> <br>\n",
    " &nbsp;&nbsp;&nbsp;&nbsp; a) Syntax <br>\n",
    " &nbsp;&nbsp;&nbsp;&nbsp; a) Out of Place Algorithm <br>\n",
    " &nbsp;&nbsp;&nbsp;&nbsp; b) In-Class Exercise #1 <br>\n",
    "2) <b>Two Pointers</b> <br>\n",
    "3) <b>Linked Lists</b> <br>\n",
    "4) <b>Merge Sort</b> <br>\n",
    " &nbsp;&nbsp;&nbsp;&nbsp; a) Video on Algorithms <br>\n",
    " &nbsp;&nbsp;&nbsp;&nbsp; b) How it Works <br>\n",
    "5) <b>Exercises</b> <br>\n",
    " &nbsp;&nbsp;&nbsp;&nbsp; a) Exercise #1 - Reverse a List in Place Using an In-Place Algorithm <br>\n",
    " &nbsp;&nbsp;&nbsp;&nbsp; b) Exercise #2 - Find Distinct Words <br>\n",
    " &nbsp;&nbsp;&nbsp;&nbsp; c) Exercise #3 - Write a program to implement a Linear Search Algorithm. <br>"
   ]
  },
  {
   "cell_type": "markdown",
   "metadata": {},
   "source": [
    "## In-Place Algorithms"
   ]
  },
  {
   "cell_type": "markdown",
   "metadata": {},
   "source": [
    "#### Syntax"
   ]
  },
  {
   "cell_type": "code",
   "execution_count": 2,
   "metadata": {},
   "outputs": [
    {
     "name": "stdout",
     "output_type": "stream",
     "text": [
      "[20, 4, 10]\n",
      "[20, 10, 4]\n"
     ]
    }
   ],
   "source": [
    "# var[i], var[i+1] = var[i+1], var[i]\n",
    "# Sometimes known as a swap algorithm\n",
    "def swap(a_list, x, y, z):\n",
    "    a_list[x], a_list[y], a_list[z] = a_list[z], a_list[y], a_list[x]\n",
    "my_list = [20, 4, 10]\n",
    "print(my_list)\n",
    "\n",
    "swap(my_list, 2, 0, 1)\n",
    "print(my_list)"
   ]
  },
  {
   "cell_type": "markdown",
   "metadata": {},
   "source": [
    "#### Out of Place Algorithm"
   ]
  },
  {
   "cell_type": "code",
   "execution_count": 8,
   "metadata": {},
   "outputs": [
    {
     "name": "stdout",
     "output_type": "stream",
     "text": [
      "[4, 10, 20]\n",
      "['a', 'a', 'a', 'a']\n",
      "Before ['a', 'b', 'c', 'd']\n",
      "After ['d', 'c', 'b', 'a']\n"
     ]
    }
   ],
   "source": [
    "# not swapping, completely reversing BUT also copies to another place in memory\n",
    "my_list_copy = my_list[::-1]\n",
    "print(my_list_copy)\n",
    "\n",
    "array = ['a', 'b', 'c', 'd']\n",
    "new_array = ['a'] * len(array)\n",
    "print(new_array)\n",
    "\n",
    "print(\"Before\", array)\n",
    "length = len(array) - 1\n",
    "\n",
    "for i in range(length):\n",
    "    new_array[i] = array[length - i]\n",
    "    \n",
    "array = new_array\n",
    "print(\"After\", array)"
   ]
  },
  {
   "cell_type": "markdown",
   "metadata": {},
   "source": [
    "#### In-Class Exercise #1 <br>\n",
    "<p>Write a function that takes in four arguments (list, index1, index2, index3), and swaps those three positions in the list passed in.</p>"
   ]
  },
  {
   "cell_type": "code",
   "execution_count": 10,
   "metadata": {},
   "outputs": [
    {
     "name": "stdout",
     "output_type": "stream",
     "text": [
      "[10, 4, 3, 8, 4, 2, 6]\n",
      "[10, 4, 8, 4, 3, 2, 6]\n"
     ]
    }
   ],
   "source": [
    "l_1 = [10, 4, 3, 8, 4, 2, 6]\n",
    "def swap_func(list, index1, index2, index3):\n",
    "    list[index1], list[index2], list[index3] = list[index2], list[index3], list[index1]\n",
    "\n",
    "print(l_1)\n",
    "swap_func(l_1, 2, 3, 4)\n",
    "print(l_1)\n"
   ]
  },
  {
   "cell_type": "markdown",
   "metadata": {},
   "source": [
    "## Two Pointers"
   ]
  },
  {
   "cell_type": "markdown",
   "metadata": {},
   "source": [
    "#### Syntax"
   ]
  },
  {
   "cell_type": "code",
   "execution_count": 4,
   "metadata": {},
   "outputs": [
    {
     "name": "stdout",
     "output_type": "stream",
     "text": [
      "[22, 11, 4, 8, 9, 12, 3, 2, 1]\n"
     ]
    }
   ],
   "source": [
    "def two_pointers(alist):\n",
    "    left = 0\n",
    "    right = len(alist) - 1\n",
    "    \n",
    "    while left <= right:\n",
    "        alist[left], alist[right] = alist[right], alist[left]\n",
    "        left += 1\n",
    "        right -= 1\n",
    "    return alist\n",
    "\n",
    "my_list2 = [1,2,3,12,9,8,4,11,22]\n",
    "print(two_pointers(my_list2))"
   ]
  },
  {
   "cell_type": "markdown",
   "metadata": {},
   "source": [
    "#### Video of Algorithms <br>\n",
    "<p>Watch the video about algorithms.</p>\n",
    "\n",
    "https://www.youtube.com/watch?v=Q9HjeFD62Uk\n",
    "\n",
    "https://www.youtube.com/watch?v=kPRA0W1kECg\n",
    "\n",
    "https://www.youtube.com/watch?v=ZZuD6iUe3Pc"
   ]
  },
  {
   "cell_type": "markdown",
   "metadata": {},
   "source": [
    "# Sorting Algorithms"
   ]
  },
  {
   "cell_type": "markdown",
   "metadata": {},
   "source": [
    "#### Bubble Sort\n",
    "\n",
    "Worst Case: O(n^2) Time - O(1) Space"
   ]
  },
  {
   "cell_type": "code",
   "execution_count": 12,
   "metadata": {},
   "outputs": [
    {
     "name": "stdout",
     "output_type": "stream",
     "text": [
      "[1, 22, 34, 44, 55, 66, 88, 100]\n",
      "Elapsed time: 0.000446319580078125\n"
     ]
    }
   ],
   "source": [
    "import time\n",
    "\n",
    "# Best case: O(n) - Linear\n",
    "def swap(i, j, array):\n",
    "    array[i], array[j] = array[j], array[i]\n",
    "    \n",
    "def bubble_sort(array):\n",
    "    is_sorted= False\n",
    "    while not is_sorted:\n",
    "        is_sorted = True\n",
    "        for num in range(len(array)-1):\n",
    "            if array[num] > array[num+1]:\n",
    "                swap(num, num+1, array)\n",
    "                is_sorted = False\n",
    "    return array\n",
    "\n",
    "start_time = time.time()\n",
    "print(bubble_sort([22,55,88,44,1,100,34,66]))\n",
    "end_time = time.time() - start_time\n",
    "print('Elapsed time: {}'.format(end_time))"
   ]
  },
  {
   "cell_type": "markdown",
   "metadata": {},
   "source": [
    "##### Insertion Sort\n",
    "\n",
    "Worst Case: O(n^2) time - O(1)space"
   ]
  },
  {
   "cell_type": "code",
   "execution_count": 23,
   "metadata": {},
   "outputs": [
    {
     "name": "stdout",
     "output_type": "stream",
     "text": [
      "[1, 22, 34, 44, 55, 66, 88, 100]\n",
      "Elapsed time: 0.001004934310913086\n"
     ]
    }
   ],
   "source": [
    "def swap(i, j, array):\n",
    "    array[i], array[j] = array[j], array[i]\n",
    "    \n",
    "def insertion_sort(array):\n",
    "    for i in range(1, len(array)):\n",
    "        j = i\n",
    "        while j > 0 and array[j] < array[j-1]:\n",
    "            swap(j, j-1, array)\n",
    "            j -= 1\n",
    "    return array\n",
    "\n",
    "start_time = time.time()\n",
    "print(insertion_sort([22,55,88,44,1,100,34,66]))\n",
    "end_time = time.time() - start_time\n",
    "print('Elapsed time: {}'.format(end_time))"
   ]
  },
  {
   "cell_type": "markdown",
   "metadata": {},
   "source": [
    "## Merge Sort"
   ]
  },
  {
   "cell_type": "markdown",
   "metadata": {},
   "source": [
    "#### How it Works"
   ]
  },
  {
   "cell_type": "code",
   "execution_count": 39,
   "metadata": {},
   "outputs": [
    {
     "name": "stdout",
     "output_type": "stream",
     "text": [
      "[9, 3, 20, 5, 0]\n",
      "Splitting... [9, 3, 20, 5, 0]\n",
      "Merge sort left\n",
      "Splitting... [9, 3]\n",
      "Merge sort left\n",
      "Splitting... [9]\n",
      "Merging... [9]\n",
      "Merge sort right\n",
      "Splitting... [3]\n",
      "Merging... [3]\n",
      "Merging... [3, 9]\n",
      "Merge sort right\n",
      "Splitting... [20, 5, 0]\n",
      "Merge sort left\n",
      "Splitting... [20]\n",
      "Merging... [20]\n",
      "Merge sort right\n",
      "Splitting... [5, 0]\n",
      "Merge sort left\n",
      "Splitting... [5]\n",
      "Merging... [5]\n",
      "Merge sort right\n",
      "Splitting... [0]\n",
      "Merging... [0]\n",
      "Merging... [0, 5]\n",
      "Merging... [0, 5, 20]\n",
      "Merging... [0, 3, 5, 9, 20]\n"
     ]
    },
    {
     "data": {
      "text/plain": [
       "[0, 3, 5, 9, 20]"
      ]
     },
     "execution_count": 39,
     "metadata": {},
     "output_type": "execute_result"
    }
   ],
   "source": [
    "from random import randint\n",
    "nums = [randint(0,20) for i in range(5)]\n",
    "print(nums)\n",
    "\n",
    "def merge_sort(alist):\n",
    "    print(\"Splitting...\", alist)\n",
    "    \n",
    "    # Step 1: Divide the array into equal parts (as much as possible)\n",
    "    if len(alist) > 1:\n",
    "        mid = len(alist) // 2\n",
    "        lefthalf = alist[:mid]\n",
    "        righthalf = alist[mid:]\n",
    "        \n",
    "        print(\"Merge sort left\")\n",
    "        merge_sort(lefthalf)\n",
    "        print(\"Merge sort right\")\n",
    "        merge_sort(righthalf)\n",
    "        \n",
    "        i = 0 # pointer for lefthalf\n",
    "        j = 0 # pointer for righthalf\n",
    "        k = 0 # pointer for main array\n",
    "        \n",
    "        # Step 2: Compare the lefthalf and righthalf\n",
    "        while i < len(lefthalf) and j < len(righthalf):\n",
    "            if lefthalf[i] < righthalf[j]:\n",
    "                alist[k] = lefthalf[i]\n",
    "                i += 1\n",
    "            else:\n",
    "                alist[k] = righthalf[j]\n",
    "                j += 1\n",
    "            k += 1\n",
    "        \n",
    "        # Step 3: While merging, place items in the correct positions\n",
    "        while i < len(lefthalf):\n",
    "            alist[k] = lefthalf[i]\n",
    "            i += 1\n",
    "            k += 1\n",
    "        while j < len(righthalf):\n",
    "            alist[k] = righthalf[j]\n",
    "            j += 1\n",
    "            k += 1\n",
    "            \n",
    "    print(\"Merging...\", alist)\n",
    "    return alist\n",
    "\n",
    "merge_sort(nums)"
   ]
  },
  {
   "cell_type": "markdown",
   "metadata": {},
   "source": [
    "# Binary Search\n",
    "\n",
    "The Binary Search algorithm works by finding the number in the middle of a given array and comparing it to the target. Given that the array is sorted\n",
    "\n",
    "* The worst case run time for this algorithm is `O(log(n))`"
   ]
  },
  {
   "cell_type": "code",
   "execution_count": 44,
   "metadata": {},
   "outputs": [
    {
     "name": "stdout",
     "output_type": "stream",
     "text": [
      "Not found\n"
     ]
    }
   ],
   "source": [
    "def binary_search_helper(array, target, left, right):\n",
    "    while left <= right:\n",
    "        middle = (left + right) // 2\n",
    "        potential_match = array[middle]\n",
    "        if target == potential_match:\n",
    "            return f'The index is {middle}'\n",
    "        elif target < potential_match:\n",
    "            right = middle - 1\n",
    "        else:\n",
    "            left = middle + 1\n",
    "    return 'Not found'\n",
    "\n",
    "def binary_search(array, target):\n",
    "    return binary_search_helper(array, target, 0, len(array)-1)\n",
    "    \n",
    "print(binary_search([22,44,55,66,88,100],54))"
   ]
  },
  {
   "cell_type": "markdown",
   "metadata": {},
   "source": [
    "# Exercises"
   ]
  },
  {
   "cell_type": "markdown",
   "metadata": {},
   "source": [
    "### Exercise #1 <br>\n",
    "<p>Reverse the list below in-place using an in-place algorithm.<br>For extra credit: Reverse the strings at the same time.</p>"
   ]
  },
  {
   "cell_type": "code",
   "execution_count": 54,
   "metadata": {},
   "outputs": [
    {
     "name": "stdout",
     "output_type": "stream",
     "text": [
      "['.', 'ecnetnes', 'a', 'si', 'siht']\n"
     ]
    }
   ],
   "source": [
    "words = ['this' , 'is', 'a', 'sentence', '.']\n",
    "def swap_order(word_list, first_index, second_index):\n",
    "    \n",
    "    # If middle word, reverse string\n",
    "    if first_index == second_index:\n",
    "        word_list[first_index] = word_list[first_index][::-1]\n",
    "        \n",
    "    # Reverse the strings and flip order between the two words\n",
    "    else:\n",
    "        word_list[first_index], word_list[second_index] = word_list[second_index][::-1], word_list[first_index][::-1]\n",
    "    \n",
    "# Get index for the first and last word\n",
    "start_index = 0\n",
    "end_index = len(words)-1\n",
    "\n",
    "# Loop through and swap the order of the words until we reach the middle of the list\n",
    "while start_index <= end_index:\n",
    "    swap_order(words, start_index, end_index)\n",
    "    start_index += 1\n",
    "    end_index -= 1\n",
    "\n",
    "print(words)"
   ]
  },
  {
   "cell_type": "markdown",
   "metadata": {},
   "source": [
    "### Exercise #2 <br>\n",
    "<p>Create a function that counts how many distinct words are in the string below, then outputs a dictionary with the words as the key and the value as the amount of times that word appears in the string.<br>Should output:<br>{'a': 5,<br>\n",
    " 'abstract': 1,<br>\n",
    " 'an': 3,<br>\n",
    " 'array': 2, ... etc...</p>"
   ]
  },
  {
   "cell_type": "code",
   "execution_count": 68,
   "metadata": {
    "scrolled": false
   },
   "outputs": [
    {
     "name": "stdout",
     "output_type": "stream",
     "text": [
      "{'in': 1, 'computing': 1, 'a': 5, 'hash': 4, 'table': 2, 'map': 2, 'is': 1, 'data': 2, 'structure': 2, 'which': 2, 'implements': 1, 'an': 3, 'associative': 1, 'array': 2, 'abstract': 1, 'type': 1, 'that': 1, 'can': 2, 'keys': 1, 'to': 2, 'values.': 1, 'uses': 1, 'function': 1, 'compute': 1, 'index': 1, 'into': 1, 'of': 1, 'buckets': 1, 'or': 1, 'slots': 1, 'from': 1, 'the': 1, 'desired': 1, 'value': 1, 'be': 1, 'found': 1}\n"
     ]
    }
   ],
   "source": [
    "import re\n",
    "a_text = 'In computing, a hash table hash map is a data structure which implements an associative array abstract data type, a structure that can map keys to values. A hash table uses a hash function to compute an index into an array of buckets or slots from which the desired value can be found'\n",
    "\n",
    "a_dict = {}\n",
    "a_list = re.split(',*\\s', a_text)\n",
    "for word in a_list:\n",
    "    if word.lower() in a_dict:\n",
    "        a_dict[word.lower()] += 1\n",
    "    else:\n",
    "        a_dict[word.lower()] = 1\n",
    "\n",
    "print(a_dict)"
   ]
  },
  {
   "cell_type": "markdown",
   "metadata": {},
   "source": [
    "## Exercise #3\n",
    "\n",
    "Write a program to implement a Linear Search Algorithm. Also in a comment, write the Time Complexity of the following algorithm.\n",
    "\n",
    "#### Hint: Linear Searching will require searching a list for a given number. "
   ]
  },
  {
   "cell_type": "code",
   "execution_count": 73,
   "metadata": {},
   "outputs": [
    {
     "name": "stdout",
     "output_type": "stream",
     "text": [
      "Number not found\n",
      "Index of the number is 5\n",
      "Index of the number is 8\n"
     ]
    }
   ],
   "source": [
    "num_list = [2, 4, 34, 4, 75, 37, 65, 53, 15, 75]\n",
    "\n",
    "def number_search(num, list_of_numbers):\n",
    "    for n in range(len(list_of_numbers)):\n",
    "        if list_of_numbers[n] == num:\n",
    "            return f'Index of the number is {n}'\n",
    "    return 'Number not found'\n",
    "\n",
    "print(number_search(5, num_list))\n",
    "print(number_search(37, num_list))\n",
    "print(number_search(15, num_list))"
   ]
  },
  {
   "cell_type": "code",
   "execution_count": null,
   "metadata": {},
   "outputs": [],
   "source": []
  },
  {
   "cell_type": "code",
   "execution_count": null,
   "metadata": {},
   "outputs": [],
   "source": []
  }
 ],
 "metadata": {
  "kernelspec": {
   "display_name": "Python 3 (ipykernel)",
   "language": "python",
   "name": "python3"
  },
  "language_info": {
   "codemirror_mode": {
    "name": "ipython",
    "version": 3
   },
   "file_extension": ".py",
   "mimetype": "text/x-python",
   "name": "python",
   "nbconvert_exporter": "python",
   "pygments_lexer": "ipython3",
   "version": "3.9.13"
  }
 },
 "nbformat": 4,
 "nbformat_minor": 2
}
